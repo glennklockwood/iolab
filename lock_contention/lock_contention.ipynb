{
 "cells": [
  {
   "cell_type": "markdown",
   "metadata": {},
   "source": [
    "# Effects of Lock Contention\n",
    "\n",
    "This notebook visualizes the performance difference between a shared-file write workload that was performed with writes aligned on specific boundaries (e.g., every write starts on a 1 MiB offset) and writes performed without any alignment.\n",
    "\n",
    "The specific data being plotted came from a set of IOR runs that used the HDF5 API.  Because HDF5 includes small metadata headers before each dataset, it is prone to performing slightly misaligned I/Os unless `H5Pset_alignment()` is explicitly used.  Each IOR test was performed ten times, and different write sizes were chosen to demonstrate how smaller I/Os (and therefore more of them) result in more time spent on lock contention."
   ]
  },
  {
   "cell_type": "code",
   "execution_count": null,
   "metadata": {},
   "outputs": [],
   "source": [
    "%matplotlib inline"
   ]
  },
  {
   "cell_type": "code",
   "execution_count": null,
   "metadata": {},
   "outputs": [],
   "source": [
    "import glob\n",
    "import pandas\n",
    "import matplotlib.pyplot\n",
    "matplotlib.rcParams['font.size'] = 18"
   ]
  },
  {
   "cell_type": "code",
   "execution_count": null,
   "metadata": {},
   "outputs": [],
   "source": [
    "import iorparse"
   ]
  },
  {
   "cell_type": "code",
   "execution_count": null,
   "metadata": {},
   "outputs": [],
   "source": [
    "# Load results\n",
    "raw_results = {}\n",
    "for pattern in 'aligned', 'unaligned':\n",
    "    raw_results[pattern] = []\n",
    "    for ior_output in glob.glob('results/%s_*.out' % pattern):\n",
    "        raw_results[pattern] += iorparse.parse(open(ior_output, 'r'), access='write')"
   ]
  },
  {
   "cell_type": "code",
   "execution_count": null,
   "metadata": {},
   "outputs": [],
   "source": [
    "# Collate results\n",
    "results = {}\n",
    "columns = set([])\n",
    "for pattern in 'aligned', 'unaligned':\n",
    "    results[pattern] = {}\n",
    "    for result in raw_results[pattern]:\n",
    "        key = result['xfersize_kib']\n",
    "        if result['xfersize_kib'] >= 1024:\n",
    "            key = \"%d MiB\" % (key / 1024)\n",
    "        else:\n",
    "            key = \"%d KiB\" % key\n",
    "        val = result['bw_mibs']\n",
    "        if key not in results[pattern]:\n",
    "            results[pattern][key] = []\n",
    "        results[pattern][key].append(val)\n",
    "        # Track both the co\n",
    "        columns.add((result['xfersize_kib'], key))"
   ]
  },
  {
   "cell_type": "code",
   "execution_count": null,
   "metadata": {},
   "outputs": [],
   "source": [
    "# Build dataframes of the data for ease of plotting\n",
    "sorted_columns = [x[1] for x in sorted(list(columns))]\n",
    "\n",
    "avg_rates = pandas.DataFrame([\n",
    "        pandas.DataFrame.from_dict(results['unaligned']).mean(),\n",
    "        pandas.DataFrame.from_dict(results['aligned']).mean(),\n",
    "    ],\n",
    "    index=[\"Unaligned\", \"Aligned, 1 MiB\"])[sorted_columns].T\n",
    "stdev_rates = pandas.DataFrame([\n",
    "        pandas.DataFrame.from_dict(results['unaligned']).std(),\n",
    "        pandas.DataFrame.from_dict(results['aligned']).std(),\n",
    "    ],\n",
    "    index=[\"Unaligned\", \"Aligned, 1 MiB\"])[sorted_columns].T"
   ]
  },
  {
   "cell_type": "code",
   "execution_count": null,
   "metadata": {},
   "outputs": [],
   "source": [
    "print(avg_rates)\n",
    "print(stdev_rates)"
   ]
  },
  {
   "cell_type": "code",
   "execution_count": null,
   "metadata": {},
   "outputs": [],
   "source": [
    "error_kw = {\n",
    "    'capsize': 10,\n",
    "    'ecolor': '#00000088',\n",
    "    'capthick': 2,\n",
    "}\n",
    "\n",
    "fig, ax = matplotlib.pyplot.subplots(figsize=(8,6))\n",
    "\n",
    "# Error bars are two standard deviations\n",
    "errorbars = 1.0 * stdev_rates\n",
    "\n",
    "avg_rates.plot.bar(width=0.80, ax=ax, yerr=errorbars, error_kw=error_kw)\n",
    "ax.grid(axis='y')\n",
    "ax.set_ylabel(\"Write Rate (MiB/s)\")\n",
    "ax.set_xlabel(\"I/O Size\")\n",
    "ax.set_axisbelow(True)\n",
    "ax.set_xticklabels(labels=ax.get_xticklabels(), rotation=0)"
   ]
  },
  {
   "cell_type": "markdown",
   "metadata": {},
   "source": [
    "The performance difference is smallest for 4 MiB write transactions because there simply weren't that many write operations issued.  Each time a 4 MiB write was issued, there would be lock negotiation, but the cost of that lock waiting was amortized by the time spent actually writing out the 4 MiB chunk after the lock had been obtained."
   ]
  },
  {
   "cell_type": "code",
   "execution_count": null,
   "metadata": {},
   "outputs": [],
   "source": [
    "ax.get_figure().savefig('unaligned-access-performance.pdf', bbox_inches='tight')"
   ]
  },
  {
   "cell_type": "code",
   "execution_count": null,
   "metadata": {},
   "outputs": [],
   "source": []
  }
 ],
 "metadata": {
  "kernelspec": {
   "display_name": "Python 3",
   "language": "python",
   "name": "python3"
  },
  "language_info": {
   "codemirror_mode": {
    "name": "ipython",
    "version": 3
   },
   "file_extension": ".py",
   "mimetype": "text/x-python",
   "name": "python",
   "nbconvert_exporter": "python",
   "pygments_lexer": "ipython3",
   "version": "3.6.5"
  }
 },
 "nbformat": 4,
 "nbformat_minor": 2
}
