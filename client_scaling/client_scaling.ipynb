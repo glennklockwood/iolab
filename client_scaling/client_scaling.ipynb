{
 "cells": [
  {
   "cell_type": "markdown",
   "metadata": {},
   "source": [
    "# Client Scaling of OSTs\n",
    "\n",
    "This notebook visualizes the throughput of a fixed number of OSTs as client count increases.\n",
    "\n",
    "The specific data being plotted came from a set of IOR runs that used file-per-process and shared-file (non-collective) POSIX I/O. The actual runs were conducted on a single Lustre OST on a single Lustre OSS (Cray Sonexion 2000) using an increasing number of Knights Landing nodes."
   ]
  },
  {
   "cell_type": "code",
   "execution_count": null,
   "metadata": {},
   "outputs": [],
   "source": [
    "%matplotlib inline"
   ]
  },
  {
   "cell_type": "code",
   "execution_count": null,
   "metadata": {},
   "outputs": [],
   "source": [
    "import glob\n",
    "import matplotlib\n",
    "matplotlib.rcParams['font.size'] = 18\n",
    "import matplotlib.pyplot\n",
    "import pandas"
   ]
  },
  {
   "cell_type": "code",
   "execution_count": null,
   "metadata": {},
   "outputs": [],
   "source": [
    "import iorparse"
   ]
  },
  {
   "cell_type": "code",
   "execution_count": null,
   "metadata": {},
   "outputs": [],
   "source": [
    "OUTPUT_FORMAT = 'pdf' # png, jpg, ... or None to not save"
   ]
  },
  {
   "cell_type": "code",
   "execution_count": null,
   "metadata": {},
   "outputs": [],
   "source": [
    "# Load results\n",
    "raw_results = {}\n",
    "for pattern in 'shared', 'fpp':\n",
    "    raw_results[pattern] = []\n",
    "    for ior_output in glob.glob('results/%s_*.out' % pattern):\n",
    "        raw_results[pattern] += iorparse.parse(open(ior_output, 'r'), access='write')\n",
    "\n",
    "results = {}\n",
    "for pattern, raw_result in raw_results.items():\n",
    "    results[pattern] = pandas.DataFrame.from_dict(raw_result)\n",
    "    results[pattern]['nodes'] = (results[pattern]['tasks'] / results[pattern]['ppn']).astype('int32')\n",
    "    results[pattern]['bw_gibs'] = results[pattern]['bw_mibs'] / 1024.0"
   ]
  },
  {
   "cell_type": "code",
   "execution_count": null,
   "metadata": {},
   "outputs": [],
   "source": [
    "fig, ax = matplotlib.pyplot.subplots(figsize=(8,6))\n",
    "for dsetno, (pattern, label) in enumerate([('shared', 'Shared File'), ('fpp', 'File Per Process')]):\n",
    "    grouped = results[pattern].groupby(['nodes'])\n",
    "    errors = grouped.std()['bw_gibs']\n",
    "    grouped.mean()['bw_gibs'].plot(ax=ax,\n",
    "                                   label=label,\n",
    "                                   yerr=2*errors,\n",
    "                                   linewidth=4,\n",
    "                                   color='C%d' % (dsetno + 2),\n",
    "                                   capsize=10,\n",
    "                                   capthick=2,\n",
    "                                   elinewidth=1)\n",
    "\n",
    "ax.set_xscale('log', basex=2)\n",
    "ax.set_xticklabels([int(x) for x in ax.get_xticks()])\n",
    "ax.grid()\n",
    "ax.set_axisbelow(True)\n",
    "ax.set_xlabel(\"Number of Client Nodes (16 processes/node)\")\n",
    "ax.set_ylabel(\"Bandwidth (GiB/s)\")\n",
    "ax.legend()"
   ]
  },
  {
   "cell_type": "code",
   "execution_count": null,
   "metadata": {},
   "outputs": [],
   "source": [
    "if OUTPUT_FORMAT:\n",
    "    ax.get_figure().savefig('client-scaling.%s' % OUTPUT_FORMAT, bbox_inches='tight')"
   ]
  },
  {
   "cell_type": "code",
   "execution_count": null,
   "metadata": {},
   "outputs": [],
   "source": []
  }
 ],
 "metadata": {
  "kernelspec": {
   "display_name": "Python 3",
   "language": "python",
   "name": "python3"
  },
  "language_info": {
   "codemirror_mode": {
    "name": "ipython",
    "version": 3
   },
   "file_extension": ".py",
   "mimetype": "text/x-python",
   "name": "python",
   "nbconvert_exporter": "python",
   "pygments_lexer": "ipython3",
   "version": "3.6.5"
  }
 },
 "nbformat": 4,
 "nbformat_minor": 2
}
